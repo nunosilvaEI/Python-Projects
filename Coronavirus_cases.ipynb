{
  "nbformat": 4,
  "nbformat_minor": 0,
  "metadata": {
    "colab": {
      "name": "Coronavirus cases.ipynb",
      "provenance": [],
      "authorship_tag": "ABX9TyNNvFCbstYTw/7TsK5khdhu",
      "include_colab_link": true
    },
    "kernelspec": {
      "name": "python3",
      "display_name": "Python 3"
    }
  },
  "cells": [
    {
      "cell_type": "markdown",
      "metadata": {
        "id": "view-in-github",
        "colab_type": "text"
      },
      "source": [
        "<a href=\"https://colab.research.google.com/github/nunosilvaEI/Python-Projects/blob/master/Coronavirus_cases.ipynb\" target=\"_parent\"><img src=\"https://colab.research.google.com/assets/colab-badge.svg\" alt=\"Open In Colab\"/></a>"
      ]
    },
    {
      "cell_type": "code",
      "metadata": {
        "id": "PxMDpKX5ZQCG",
        "colab_type": "code",
        "colab": {
          "base_uri": "https://localhost:8080/",
          "height": 51
        },
        "outputId": "a1974c6b-335d-4c4d-e3ca-b9ff5ee206a2"
      },
      "source": [
        "pip install bs4"
      ],
      "execution_count": 1,
      "outputs": [
        {
          "output_type": "stream",
          "text": [
            "Requirement already satisfied: bs4 in /usr/local/lib/python3.6/dist-packages (0.0.1)\n",
            "Requirement already satisfied: beautifulsoup4 in /usr/local/lib/python3.6/dist-packages (from bs4) (4.6.3)\n"
          ],
          "name": "stdout"
        }
      ]
    },
    {
      "cell_type": "code",
      "metadata": {
        "id": "4YS_HxhuZZCw",
        "colab_type": "code",
        "colab": {}
      },
      "source": [
        "import requests\n",
        "from bs4 import BeautifulSoup"
      ],
      "execution_count": 0,
      "outputs": []
    },
    {
      "cell_type": "code",
      "metadata": {
        "id": "WJCU8XE5ZiRs",
        "colab_type": "code",
        "colab": {
          "base_uri": "https://localhost:8080/",
          "height": 136
        },
        "outputId": "da5c8498-cccc-4349-fc00-9c0e361381e8"
      },
      "source": [
        "url = \"https://www.worldometers.info/coronavirus/\"\n",
        "request = requests.get(url)\n",
        "s = BeautifulSoup(request.text,\"html.parser\")\n",
        "data = s.find_all(\"div\", class_ = \"maincounter-number\")\n",
        "\n",
        "print(\"************************************************\")\n",
        "print(\"\\t\\tTOTAL CASES\")\n",
        "print(\"************************************************\\n\")\n",
        "\n",
        "print(\"Total Cases: \", data[0].text.strip())\n",
        "print(\"Total Deaths: \", data[1].text.strip())\n",
        "print(\"Total Recovered: \", data[2].text.strip())"
      ],
      "execution_count": 72,
      "outputs": [
        {
          "output_type": "stream",
          "text": [
            "************************************************\n",
            "\t\tTOTAL CASES\n",
            "************************************************\n",
            "\n",
            "Total Cases:  1,554,713\n",
            "Total Deaths:  91,817\n",
            "Total Recovered:  345,133\n"
          ],
          "name": "stdout"
        }
      ]
    },
    {
      "cell_type": "code",
      "metadata": {
        "id": "WtDTqojNqc1y",
        "colab_type": "code",
        "colab": {
          "base_uri": "https://localhost:8080/",
          "height": 136
        },
        "outputId": "b3d1a280-f5a8-4721-9399-666a5e611ee2"
      },
      "source": [
        "State_of_Cases = s.find_all(\"div\", class_ = \"number-table-main\")\n",
        "CasesCondition = s.find_all(\"span\", class_ = \"number-table\")\n",
        "\n",
        "print(\"************************************************\")\n",
        "print(\"\\t\\tACTIVE CASES\")\n",
        "print(\"************************************************\\n\")\n",
        "\n",
        "print(\"Number of Active Cases: \", State_of_Cases[0].text.strip())\n",
        "print(\"Number of cases in less serious condition: \", CasesCondition[0].text.strip())\n",
        "print(\"Number of cases in serious or critical condition: \", CasesCondition[1].text.strip())"
      ],
      "execution_count": 73,
      "outputs": [
        {
          "output_type": "stream",
          "text": [
            "************************************************\n",
            "\t\tACTIVE CASES\n",
            "************************************************\n",
            "\n",
            "Number of Active Cases:  1,117,763\n",
            "Number of cases in less serious condition:  1,069,253\n",
            "Number of cases in serious or critical condition:  48,510\n"
          ],
          "name": "stdout"
        }
      ]
    },
    {
      "cell_type": "code",
      "metadata": {
        "id": "FoAAuBcFs0HU",
        "colab_type": "code",
        "colab": {
          "base_uri": "https://localhost:8080/",
          "height": 136
        },
        "outputId": "8b06a826-cde7-4615-f45f-0868c77bb701"
      },
      "source": [
        "print(\"************************************************\")\n",
        "print(\"\\t\\tCLOSED CASES\")\n",
        "print(\"************************************************\\n\")\n",
        "print('Number of closed cases:', State_of_Cases[1].text.strip())\n",
        "print('Number of recovered cases:', CasesCondition[2].text.strip())\n",
        "print('Number of deaths:', CasesCondition[3].text.strip())\n"
      ],
      "execution_count": 74,
      "outputs": [
        {
          "output_type": "stream",
          "text": [
            "************************************************\n",
            "\t\tCLOSED CASES\n",
            "************************************************\n",
            "\n",
            "Number of closed cases: 436,950\n",
            "Number of recovered cases: 345,133\n",
            "Number of deaths: 91,817\n"
          ],
          "name": "stdout"
        }
      ]
    }
  ]
}